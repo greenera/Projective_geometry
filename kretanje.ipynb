{
 "cells": [
  {
   "cell_type": "code",
   "execution_count": 5,
   "metadata": {},
   "outputs": [],
   "source": [
    "import numpy as np\n",
    "import math"
   ]
  },
  {
   "cell_type": "code",
   "execution_count": 96,
   "metadata": {},
   "outputs": [],
   "source": [
    "def vector_intensity(vector):\n",
    "    vector_quadrat = vector * vector\n",
    "    vector_quadrat_sum = np.sum(vector_quadrat)\n",
    "    return math.sqrt(vector_quadrat_sum)\n",
    "\n",
    "def euler2A(fi, teta, ksi):\n",
    "    cos_fi = math.cos(fi)\n",
    "    sin_fi = math.sin(fi)\n",
    "    \n",
    "    RX = np.array([[1, 0,      0],\n",
    "                   [0, cos_fi, -sin_fi],\n",
    "                   [0, sin_fi,  cos_fi]])\n",
    "    \n",
    "    cos_teta = math.cos(teta)\n",
    "    sin_teta = math.sin(teta)\n",
    "    \n",
    "    RY = np.array([[cos_teta, 0, sin_teta],\n",
    "                  [0        , 1, 0],\n",
    "                  [-sin_teta, 0, cos_teta]])\n",
    "    \n",
    "    cos_ksi = math.cos(ksi)\n",
    "    sin_ksi = math.sin(ksi)\n",
    "    RZ = np.array([[cos_ksi, -sin_ksi, 0],\n",
    "                   [sin_ksi, cos_ksi,  0],\n",
    "                   [0      , 0,        1]])\n",
    "    \n",
    "    A = np.dot(RZ,RY)\n",
    "    A = np.dot(A,RX)\n",
    "    return A\n",
    "\n",
    "def a2Euler(A):\n",
    "    if A[2,0] == -1:\n",
    "        fi = 0\n",
    "        teta = np.pi / 2\n",
    "        ksi = -2*np.arctan2(A[1,1], -A[0,1])\n",
    "    elif A[2,0] < 1:\n",
    "        fi = np.arctan2( A[2,1], A[2,2])\n",
    "        teta = np.arcsin(-A[2,0])\n",
    "        ksi = np.arctan2(A[1,0], A[0,0])\n",
    "    elif A[2,0] == 1:\n",
    "        fi = 0\n",
    "        teta = -np.pi / 2\n",
    "        ksi = np.arctan2(A[0,1], -A[1,1])\n",
    "    else:\n",
    "        print(\"uneta losa matrica A\")\n",
    "        return (0,0,0)\n",
    "    \n",
    "    return (fi, teta, ksi)\n",
    "\n",
    "def axisAngle(A):\n",
    "    return 0\n",
    "\n",
    "def rodrigez(p, fi):\n",
    "    fi_sin = np.sin(fi)\n",
    "    fi_cos = np.cos(fi)\n",
    "    \n",
    "    p = p * 1/vector_intensity(p)\n",
    "    px = np.array([[0,    -p[2], p[1]], \n",
    "                   [p[2],  0,    -p[0]], \n",
    "                   [-p[1], p[0], 0]])\n",
    "    \n",
    "    return np.eye(3) + fi_sin * px + (1 - fi_cos) * px.dot(px)\n",
    "\n",
    "def axisAngle2q(p, fi):\n",
    "    d = math.sqrt(p[0]**2 + p[1]**2 + p[2]**2)\n",
    "    p = p * 1/d\n",
    "    p = np.sin(fi/2) * p\n",
    "    \n",
    "    return (p[0], p[1], p[2], np.cos(fi/2));\n",
    "\n",
    "def q2AxisAngle(q): \n",
    "    a,b,c,d = q\n",
    "    p = np.array([a,b,c])\n",
    "    \n",
    "    if d < 0:\n",
    "        p *= -1\n",
    "        d *= -1\n",
    "    \n",
    "    if d == 1:\n",
    "        p = (1,0,0)\n",
    "    else:\n",
    "        s = math.sqrt(p[0]**2 + p[1]**2 + p[2]**2)\n",
    "        p = p * 1/s\n",
    "    \n",
    "    return (p ,2 * np.arccos(d))\n",
    "\n",
    "def normalizuj(q):\n",
    "    suma = np.sum(q)\n",
    "    \n",
    "    return q * 1/suma\n",
    "    \n"
   ]
  },
  {
   "cell_type": "code",
   "execution_count": 97,
   "metadata": {},
   "outputs": [
    {
     "data": {
      "text/plain": [
       "array([[ 0.70710678,  0.        ,  0.70710678],\n",
       "       [ 0.        ,  1.        ,  0.        ],\n",
       "       [-0.70710678,  0.        ,  0.70710678]])"
      ]
     },
     "execution_count": 97,
     "metadata": {},
     "output_type": "execute_result"
    }
   ],
   "source": [
    "p2 = np.array([0,3,0])\n",
    "alfa2 = np.pi/4\n",
    "\n",
    "rodrigez(p2, alfa2)"
   ]
  },
  {
   "cell_type": "code",
   "execution_count": null,
   "metadata": {},
   "outputs": [],
   "source": []
  }
 ],
 "metadata": {
  "kernelspec": {
   "display_name": "Python 3",
   "language": "python",
   "name": "python3"
  },
  "language_info": {
   "codemirror_mode": {
    "name": "ipython",
    "version": 3
   },
   "file_extension": ".py",
   "mimetype": "text/x-python",
   "name": "python",
   "nbconvert_exporter": "python",
   "pygments_lexer": "ipython3",
   "version": "3.7.4"
  }
 },
 "nbformat": 4,
 "nbformat_minor": 2
}
