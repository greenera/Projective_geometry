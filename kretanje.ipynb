{
 "cells": [
  {
   "cell_type": "code",
   "execution_count": 13,
   "metadata": {},
   "outputs": [
    {
     "name": "stdout",
     "output_type": "stream",
     "text": [
      "Requirement already satisfied: scipy in c:\\users\\greeny\\anaconda3\\lib\\site-packages (1.3.1)\n"
     ]
    }
   ],
   "source": [
    "import numpy as np\n",
    "from numpy import linalg as LA\n",
    "import math\n",
    "import scipy\n",
    "import sys\n",
    "!{sys.executable} -m pip install scipy"
   ]
  },
  {
   "cell_type": "code",
   "execution_count": 16,
   "metadata": {},
   "outputs": [
    {
     "name": "stdout",
     "output_type": "stream",
     "text": [
      "[[-0.40356127 -0.81563077 -0.1883618 ]\n",
      " [-0.45216387  0.13048019 -0.52544284]\n",
      " [-0.7954157   0.56366779  0.82971661]]\n",
      "[ 8.30328514 -0.86208786  0.55880272]\n"
     ]
    },
    {
     "ename": "TypeError",
     "evalue": "eig() got an unexpected keyword argument 'k'",
     "output_type": "error",
     "traceback": [
      "\u001b[1;31m---------------------------------------------------------------------------\u001b[0m",
      "\u001b[1;31mTypeError\u001b[0m                                 Traceback (most recent call last)",
      "\u001b[1;32m<ipython-input-16-b9ee89f3acf4>\u001b[0m in \u001b[0;36m<module>\u001b[1;34m\u001b[0m\n\u001b[0;32m      4\u001b[0m \u001b[0mprint\u001b[0m\u001b[1;33m(\u001b[0m\u001b[0mV\u001b[0m\u001b[1;33m)\u001b[0m\u001b[1;33m\u001b[0m\u001b[1;33m\u001b[0m\u001b[0m\n\u001b[0;32m      5\u001b[0m \u001b[1;33m\u001b[0m\u001b[0m\n\u001b[1;32m----> 6\u001b[1;33m \u001b[0mvalues\u001b[0m\u001b[1;33m,\u001b[0m \u001b[0mvectors\u001b[0m \u001b[1;33m=\u001b[0m \u001b[0mLA\u001b[0m\u001b[1;33m.\u001b[0m\u001b[0meig\u001b[0m\u001b[1;33m(\u001b[0m\u001b[0mA\u001b[0m\u001b[1;33m,\u001b[0m \u001b[0mk\u001b[0m\u001b[1;33m=\u001b[0m\u001b[1;36m1\u001b[0m\u001b[1;33m,\u001b[0m \u001b[0msigma\u001b[0m\u001b[1;33m=\u001b[0m\u001b[1;36m1\u001b[0m\u001b[1;33m)\u001b[0m\u001b[1;33m\u001b[0m\u001b[1;33m\u001b[0m\u001b[0m\n\u001b[0m\u001b[0;32m      7\u001b[0m \u001b[0mprint\u001b[0m\u001b[1;33m(\u001b[0m\u001b[0mvalues\u001b[0m\u001b[1;33m)\u001b[0m\u001b[1;33m\u001b[0m\u001b[1;33m\u001b[0m\u001b[0m\n\u001b[0;32m      8\u001b[0m \u001b[0mprint\u001b[0m\u001b[1;33m(\u001b[0m\u001b[0mvectors\u001b[0m\u001b[1;33m)\u001b[0m\u001b[1;33m\u001b[0m\u001b[1;33m\u001b[0m\u001b[0m\n",
      "\u001b[1;31mTypeError\u001b[0m: eig() got an unexpected keyword argument 'k'"
     ]
    }
   ],
   "source": [
    "A = np.array([[1, 3, 2],[2,3,2], [4,4,4]])\n",
    "V, E = LA.eig(A)\n",
    "print(E)\n",
    "print(V)"
   ]
  },
  {
   "cell_type": "code",
   "execution_count": 23,
   "metadata": {},
   "outputs": [],
   "source": [
    "# Calculate vector intensity using formula:\n",
    "# |A| = sqrt(a1^2 + a2^2 + 3^2 +...+ an^2)\n",
    "# where n = A.length\n",
    "def intenzitet_vektora(a):\n",
    "    suma = np.sum(a * a)\n",
    "    return math.sqrt(suma)\n",
    "\n",
    "# Find eigenvector for eigenvalue l = 1\n",
    "# M - matrix\n",
    "# l - lambda, eigenvalue\n",
    "# x - eigenvector\n",
    "# I - identity (unit) matrix\n",
    "#\n",
    "# Formula:\n",
    "# Mx = lx\n",
    "# (A - lI)x = 0\n",
    "# |A-lI|x = 0\n",
    "def svojstven_vekot_i_vrednost(M, l):\n",
    "    # M must be n*n\n",
    "    v, e = LA.eig(M)\n",
    "    for i in range v.shape[0]:\n",
    "        if v[i] == 1:\n",
    "            return e[i]\n",
    "        \n",
    "    return []\n",
    "    \n",
    "    '''if not M.shape[0] == M.shape[1]:\n",
    "        print('Nije kvadratna matrica!')\n",
    "        return np.array([nan])\n",
    "    \n",
    "    I = np.identity(M.shape[0])\n",
    "    I *= l\n",
    "    \n",
    "    A = M - I\n",
    "    b = A[1,:]\n",
    "    c = A[2,:]\n",
    "    \n",
    "    # choose x3\n",
    "    x3 = 1\n",
    "    \n",
    "    # Calculate by fromula\n",
    "    # b1x1 + b2a2 + b3x3 = 0\n",
    "    # c1x1 + c2x2 + c3x3 = 0\n",
    "    \n",
    "    x2 = x3 * (b[0]*c[2]/c[1] - b[2]) / (b[1] - b[0]*c[1]/c[0])\n",
    "    x1 = (x2 * -c[1] - c[2]*x3) / c[0]\n",
    "    \n",
    "    return np.array([x1, x2, x3])\n",
    "    '''\n",
    "def M2AngleAxis(M):\n",
    "    p = svojstven_vekot_i_vrednost(M, 1)\n",
    "    print(p)\n",
    "    \n",
    "\n",
    "def euler2A(fi, teta, ksi):\n",
    "    cos_fi = math.cos(fi)\n",
    "    sin_fi = math.sin(fi)\n",
    "    \n",
    "    RX = np.array([[1, 0,      0],\n",
    "                   [0, cos_fi, -sin_fi],\n",
    "                   [0, sin_fi,  cos_fi]])\n",
    "    \n",
    "    cos_teta = math.cos(teta)\n",
    "    sin_teta = math.sin(teta)\n",
    "    \n",
    "    RY = np.array([[cos_teta, 0, sin_teta],\n",
    "                  [0        , 1, 0],\n",
    "                  [-sin_teta, 0, cos_teta]])\n",
    "    \n",
    "    cos_ksi = math.cos(ksi)\n",
    "    sin_ksi = math.sin(ksi)\n",
    "    RZ = np.array([[cos_ksi, -sin_ksi, 0],\n",
    "                   [sin_ksi, cos_ksi,  0],\n",
    "                   [0      , 0,        1]])\n",
    "    \n",
    "    A = np.dot(RZ,RY)\n",
    "    A = np.dot(A,RX)\n",
    "    return A\n",
    "\n",
    "def a2Euler(A):\n",
    "    if A[2,0] == -1:\n",
    "        fi = 0\n",
    "        teta = np.pi / 2\n",
    "        ksi = -2*np.arctan2(A[1,1], -A[0,1])\n",
    "    elif A[2,0] < 1:\n",
    "        fi = np.arctan2( A[2,1], A[2,2])\n",
    "        teta = np.arcsin(-A[2,0])\n",
    "        ksi = np.arctan2(A[1,0], A[0,0])\n",
    "    elif A[2,0] == 1:\n",
    "        fi = 0\n",
    "        teta = -np.pi / 2\n",
    "        ksi = np.arctan2(A[0,1], -A[1,1])\n",
    "    else:\n",
    "        print(\"uneta losa matrica A\")\n",
    "        return (0,0,0)\n",
    "    \n",
    "    return (fi, teta, ksi)\n",
    "\n",
    "def axisAngle(A):\n",
    "    return 0\n",
    "\n",
    "# done\n",
    "def rodrigez(p, fi):\n",
    "    fi_sin = np.sin(fi)\n",
    "    fi_cos = np.cos(fi)\n",
    "    \n",
    "    p = p * 1/intenzitet_vektora(p)\n",
    "    px = np.array([[0,    -p[2], p[1]], \n",
    "                   [p[2],  0,    -p[0]], \n",
    "                   [-p[1], p[0], 0]])\n",
    "    \n",
    "    return np.eye(3) + fi_sin * px + (1 - fi_cos) * px.dot(px)\n",
    "\n",
    "def axisAngle2q(p, fi):\n",
    "    d = math.sqrt(p[0]**2 + p[1]**2 + p[2]**2)\n",
    "    p = p * 1/d\n",
    "    p = np.sin(fi/2) * p\n",
    "    \n",
    "    return (p[0], p[1], p[2], np.cos(fi/2));\n",
    "\n",
    "def q2AxisAngle(q): \n",
    "    a,b,c,d = q\n",
    "    p = np.array([a,b,c])\n",
    "    \n",
    "    if d < 0:\n",
    "        p *= -1\n",
    "        d *= -1\n",
    "    \n",
    "    if d == 1:\n",
    "        p = (1,0,0)\n",
    "    else:\n",
    "        s = math.sqrt(p[0]**2 + p[1]**2 + p[2]**2)\n",
    "        p = p * 1/s\n",
    "    \n",
    "    return (p ,2 * np.arccos(d))\n",
    "\n",
    "def normalizuj(q):\n",
    "    suma = np.sum(q)\n",
    "    \n",
    "    return q * 1/suma\n",
    "    \n"
   ]
  },
  {
   "cell_type": "code",
   "execution_count": 24,
   "metadata": {},
   "outputs": [
    {
     "name": "stdout",
     "output_type": "stream",
     "text": [
      "[[ 0.70710678  0.          0.70710678]\n",
      " [ 0.          1.          0.        ]\n",
      " [-0.70710678  0.          0.70710678]]\n"
     ]
    },
    {
     "ename": "TypeError",
     "evalue": "M2AngleAxis() takes 1 positional argument but 2 were given",
     "output_type": "error",
     "traceback": [
      "\u001b[1;31m---------------------------------------------------------------------------\u001b[0m",
      "\u001b[1;31mTypeError\u001b[0m                                 Traceback (most recent call last)",
      "\u001b[1;32m<ipython-input-24-a11f4024f435>\u001b[0m in \u001b[0;36m<module>\u001b[1;34m\u001b[0m\n\u001b[0;32m      4\u001b[0m \u001b[0mM\u001b[0m \u001b[1;33m=\u001b[0m \u001b[0mrodrigez\u001b[0m\u001b[1;33m(\u001b[0m\u001b[0mp2\u001b[0m\u001b[1;33m,\u001b[0m \u001b[0malfa2\u001b[0m\u001b[1;33m)\u001b[0m\u001b[1;33m\u001b[0m\u001b[1;33m\u001b[0m\u001b[0m\n\u001b[0;32m      5\u001b[0m \u001b[0mprint\u001b[0m\u001b[1;33m(\u001b[0m\u001b[0mM\u001b[0m\u001b[1;33m)\u001b[0m\u001b[1;33m\u001b[0m\u001b[1;33m\u001b[0m\u001b[0m\n\u001b[1;32m----> 6\u001b[1;33m \u001b[0mM2AngleAxis\u001b[0m\u001b[1;33m(\u001b[0m\u001b[0mM\u001b[0m\u001b[1;33m,\u001b[0m \u001b[1;36m1\u001b[0m\u001b[1;33m)\u001b[0m\u001b[1;33m\u001b[0m\u001b[1;33m\u001b[0m\u001b[0m\n\u001b[0m",
      "\u001b[1;31mTypeError\u001b[0m: M2AngleAxis() takes 1 positional argument but 2 were given"
     ]
    }
   ],
   "source": [
    "p2 = np.array([0,3,0])\n",
    "alfa2 = np.pi/4\n",
    "\n",
    "M = rodrigez(p2, alfa2)\n",
    "print(M)\n",
    "M2AngleAxis(M, 1)"
   ]
  },
  {
   "cell_type": "code",
   "execution_count": null,
   "metadata": {},
   "outputs": [],
   "source": []
  }
 ],
 "metadata": {
  "kernelspec": {
   "display_name": "Python 3",
   "language": "python",
   "name": "python3"
  },
  "language_info": {
   "codemirror_mode": {
    "name": "ipython",
    "version": 3
   },
   "file_extension": ".py",
   "mimetype": "text/x-python",
   "name": "python",
   "nbconvert_exporter": "python",
   "pygments_lexer": "ipython3",
   "version": "3.7.4"
  }
 },
 "nbformat": 4,
 "nbformat_minor": 2
}
